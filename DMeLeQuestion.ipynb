{
  "nbformat": 4,
  "nbformat_minor": 0,
  "metadata": {
    "colab": {
      "name": "DMeLeQuestion.ipynb",
      "version": "0.3.2",
      "provenance": [],
      "include_colab_link": true
    },
    "kernelspec": {
      "name": "python3",
      "display_name": "Python 3"
    }
  },
  "cells": [
    {
      "cell_type": "markdown",
      "metadata": {
        "id": "view-in-github",
        "colab_type": "text"
      },
      "source": [
        "[View in Colaboratory](https://colab.research.google.com/github/eventia/TIL/blob/master/DMeLeQuestion.ipynb)"
      ]
    },
    {
      "metadata": {
        "id": "0Wpeim8-pC6F",
        "colab_type": "text"
      },
      "cell_type": "markdown",
      "source": [
        "# 드 메레의 문제  \n",
        "\n",
        "\n",
        "주사위 1개를 네 번 던져서 적어도 6이 한번 이상 나오는 확률과 2개의 주사위를 24번 던져서 둘 다 6이 나오는 확률 중 어느 것이 더 높은가?"
      ]
    },
    {
      "metadata": {
        "id": "PH-r7OUPlO_X",
        "colab_type": "code",
        "colab": {
          "base_uri": "https://localhost:8080/",
          "height": 53
        },
        "outputId": "d8d109a6-fc35-4496-f46e-425056b11e4d"
      },
      "cell_type": "code",
      "source": [
        "# 주사위 4번 적어도 6이 한번 이상 \n",
        "pA = 1-(5/6)**4\n",
        "print(\"주사위 1개를 4번 던져서 적어도 6이 한번 이상 나오는 확률 = \", pA)\n",
        "\n",
        "\n",
        "# 2개 주사위 24번, 둘다 6이 나올 확률\n",
        "pB = 1-(35/36)**24\n",
        "print(\"주사위 2개를 24번 던져서 둘다 6이 한번 이상 나오는 확률 = \", pB)\n"
      ],
      "execution_count": 7,
      "outputs": [
        {
          "output_type": "stream",
          "text": [
            "주사위 1개를 4번 던져서 적어도 6이 한번 이상 나오는 확률 =  0.5177469135802468\n",
            "주사위 2개를 24번 던져서 둘다 6이 한번 이상 나오는 확률 =  0.4914038761309034\n"
          ],
          "name": "stdout"
        }
      ]
    }
  ]
}